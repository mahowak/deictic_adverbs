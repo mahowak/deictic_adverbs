{
 "cells": [
  {
   "cell_type": "code",
   "execution_count": 1,
   "id": "3a1afcc9",
   "metadata": {},
   "outputs": [],
   "source": [
    "#from run_ib import RunIB\n",
    "from enumerate_lexicons import get_random_lexicon\n",
    "import enumerate_lexicons as el\n",
    "import random\n",
    "import matplotlib.pyplot as plt\n",
    "import numpy as np\n",
    "import pandas as pd\n",
    "from stirling import stirling\n",
    "import enumerate_lexicons\n",
    "pd.options.display.max_rows = 250\n",
    "import scipy\n",
    "from run_ib_new import *"
   ]
  },
  {
   "cell_type": "code",
   "execution_count": 2,
   "id": "0122dfea",
   "metadata": {},
   "outputs": [],
   "source": [
    "mu = 0.3\n",
    "num_dists = 3\n",
    "pgs_dists = [0,0.789,-1.315]\n",
    "num_words = 9\n",
    "num_meanings = num_dists * 3\n",
    "x = RunIB(mu,num_dists, pgs_dists)\n",
    "lexicons = x.get_real_langs(num_meanings)"
   ]
  },
  {
   "cell_type": "code",
   "execution_count": 4,
   "id": "fa6e065a",
   "metadata": {},
   "outputs": [
    {
     "name": "stdout",
     "output_type": "stream",
     "text": [
      " "
     ]
    },
    {
     "name": "stdout",
     "output_type": "stream",
     "text": [
      "         8581764 function calls in 12.612 seconds\n",
      "\n",
      "   Ordered by: internal time\n",
      "\n",
      "   ncalls  tottime  percall  cumtime  percall filename:lineno(function)\n",
      "  2640220    5.954    0.000    5.954    0.000 {method 'reduce' of 'numpy.ufunc' objects}\n",
      "   330000    4.631    0.000   12.066    0.000 run_ib_new.py:54(information_plane)\n",
      "  2640000    0.939    0.000    7.436    0.000 {method 'sum' of 'numpy.ndarray' objects}\n",
      "  2640000    0.543    0.000    6.497    0.000 _methods.py:45(_sum)\n",
      "   330000    0.328    0.000   12.395    0.000 run_ib_new.py:185(get_objective)\n",
      "      220    0.175    0.001   12.570    0.057 run_ib_new.py:206(<listcomp>)\n",
      "      440    0.024    0.000    0.024    0.000 {built-in method numpy.array}\n",
      "      220    0.015    0.000   12.611    0.057 run_ib_new.py:204(find_everything)\n",
      "        1    0.001    0.001   12.612   12.612 <string>:1(<listcomp>)\n",
      "      220    0.001    0.000    0.001    0.000 {method 'argmin' of 'numpy.ndarray' objects}\n",
      "      220    0.000    0.000    0.001    0.000 {method 'min' of 'numpy.ndarray' objects}\n",
      "      220    0.000    0.000    0.001    0.000 _methods.py:41(_amin)\n",
      "        1    0.000    0.000   12.612   12.612 {built-in method builtins.exec}\n",
      "        1    0.000    0.000   12.612   12.612 <string>:1(<module>)\n",
      "        1    0.000    0.000    0.000    0.000 {method 'disable' of '_lsprof.Profiler' objects}"
     ]
    }
   ],
   "source": [
    "%prun [x.find_everything(l[1]) for l in lexicons]\n",
    "\n"
   ]
  }
 ],
 "metadata": {
  "kernelspec": {
   "display_name": "Python 3.8.8 ('torchenv')",
   "language": "python",
   "name": "python3"
  },
  "language_info": {
   "codemirror_mode": {
    "name": "ipython",
    "version": 3
   },
   "file_extension": ".py",
   "mimetype": "text/x-python",
   "name": "python",
   "nbconvert_exporter": "python",
   "pygments_lexer": "ipython3",
   "version": "3.8.8"
  },
  "vscode": {
   "interpreter": {
    "hash": "b8089699169fbd51f7012dc9bcd7a071df3b66e25ff4d6343eff2fb39c1a1074"
   }
  }
 },
 "nbformat": 4,
 "nbformat_minor": 5
}
