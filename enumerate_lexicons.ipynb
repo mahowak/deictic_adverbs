{
 "cells": [
  {
   "cell_type": "code",
   "execution_count": 60,
   "id": "4d71036a",
   "metadata": {},
   "outputs": [],
   "source": [
    "from run_ib import RunIB\n",
    "from enumerate_lexicons import get_random_lexicon\n",
    "from ib import ib, mi, information_plane\n",
    "import matplotlib.pyplot as plt\n",
    "import numpy as np\n",
    "import pandas as pd\n",
    "import einops\n",
    "from plotnine import *"
   ]
  },
  {
   "cell_type": "code",
   "execution_count": 82,
   "id": "664cfa94",
   "metadata": {},
   "outputs": [
    {
     "name": "stderr",
     "output_type": "stream",
     "text": [
      "/Users/cshnican/opt/anaconda3/lib/python3.8/site-packages/plotnine/ggplot.py:719: PlotnineWarning: Saving 6.4 x 4.8 in image.\n",
      "/Users/cshnican/opt/anaconda3/lib/python3.8/site-packages/plotnine/ggplot.py:722: PlotnineWarning: Filename: figures/p_u_m_D1_place.png\n",
      "/Users/cshnican/opt/anaconda3/lib/python3.8/site-packages/plotnine/ggplot.py:719: PlotnineWarning: Saving 6.4 x 4.8 in image.\n",
      "/Users/cshnican/opt/anaconda3/lib/python3.8/site-packages/plotnine/ggplot.py:722: PlotnineWarning: Filename: figures/p_u_m_D3_source.png\n"
     ]
    }
   ],
   "source": [
    "x = RunIB(mu=0.3, gamma = 2, distal_levels = 3, pgs_dists = [0, -1, 1], prior_spec = [\"place\", \"goal\", \"source\"])\n",
    "p_u_m = x.prob_u_given_m # M x U\n",
    "\n",
    "p_u_m = einops.rearrange(p_u_m, 'm u -> (m u)')\n",
    "\n",
    "meanings = list(x.deictic_index.keys())\n",
    "\n",
    "U = 9 * meanings\n",
    "M = [element for element in meanings for i in range(9)]\n",
    "\n",
    "df = pd.DataFrame({\"M\": M, \"U\":U, \"p_u_m\": p_u_m})\n",
    "\n",
    "df[[\"M_r\", \"M_theta\"]]=df[\"M\"].str.split(\"_\", expand = True)\n",
    "df[[\"U_r\", \"U_theta\"]]=df[\"U\"].str.split(\"_\", expand = True)\n",
    "\n",
    "df_sub = df.loc[df[\"M\"] == 'D1_place']\n",
    "(ggplot(df_sub,aes(x = \"U_theta\", y = \"U_r\", fill = \"p_u_m\")) + \n",
    " geom_tile() + scale_fill_gradient(low = '#F5FBFF', high = '#032C5E') + theme_bw(14) +\n",
    "xlab(\"Orientation\") + ylab(\"Distal Level\") + guides(fill = guide_legend(title=\"p(u|m)\"))).save(filename='figures/p_u_m_D1_place.png', dpi=500)\n",
    "\n",
    "\n",
    "df_sub = df.loc[df[\"M\"] == 'D3_source']\n",
    "(ggplot(df_sub,aes(x = \"U_theta\", y = \"U_r\", fill = \"p_u_m\")) + \n",
    " geom_tile() + scale_fill_gradient(low = '#F5FBFF', high = '#032C5E') + theme_bw(14) +\n",
    "xlab(\"Orientation\") + ylab(\"Distal Level\") + guides(fill = guide_legend(title=\"p(u|m)\"))).save(filename='figures/p_u_m_D3_source.png', dpi=500)"
   ]
  }
 ],
 "metadata": {
  "kernelspec": {
   "display_name": "Python 3 (ipykernel)",
   "language": "python",
   "name": "python3"
  },
  "language_info": {
   "codemirror_mode": {
    "name": "ipython",
    "version": 3
   },
   "file_extension": ".py",
   "mimetype": "text/x-python",
   "name": "python",
   "nbconvert_exporter": "python",
   "pygments_lexer": "ipython3",
   "version": "3.8.5"
  }
 },
 "nbformat": 4,
 "nbformat_minor": 5
}
